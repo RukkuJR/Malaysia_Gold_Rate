import requests
from bs4 import BeautifulSoup
import pandas as pd

# URL of the webpage to scrape
url = "https://goldpricez.com/gold/history/myr/year-1"

# Send a GET request to the webpage
response = requests.get(url)

# Check if the request was successful (status code 200)
if response.status_code == 200:
    # Parse the HTML content of the webpage
    soup = BeautifulSoup(response.content, 'html.parser')
    
    # Find all tables on the page
    tables = soup.find_all('table')
    
    # Assuming the bottom table is the one we are interested in
    table = tables[-1]
    
    if table:
        # Extract headers
        headers = [header.text.strip() for header in table.find_all('th')]
        
        # Extract rows
        rows = []
        for row in table.find_all('tr')[1:]:  # Skip the header row
            cols = row.find_all('td')
            cols = [col.text.strip() for col in cols]
            rows.append(cols)
        
        # Create a DataFrame
        df = pd.DataFrame(rows, columns=headers)
        
        # Print the DataFrame
        print(df)
        
        # Save the DataFrame to a CSV file
        df.to_csv('gold_price_today.csv', index=False)
    else:
        print("No gold rates table found on the webpage.")
else:
    print("Failed to retrieve webpage. Status code:", response.status_code)
